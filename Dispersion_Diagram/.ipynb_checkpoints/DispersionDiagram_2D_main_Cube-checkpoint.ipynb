{
 "cells": [
  {
   "cell_type": "code",
   "execution_count": 1,
   "metadata": {},
   "outputs": [],
   "source": [
    "import numpy as np\n",
    "import scipy as sc\n",
    "from numpy.linalg import norm\n",
    "from scipy.linalg import eig, eigvals\n",
    "# Visualization libraries as needed, for example:\n",
    "from mpl_toolkits.mplot3d import Axes3D\n",
    "import matplotlib.pyplot as plt\n",
    "import plotly.graph_objects as go\n",
    "\n",
    "from convmat import *"
   ]
  },
  {
   "cell_type": "code",
   "execution_count": 2,
   "metadata": {},
   "outputs": [],
   "source": [
    "# BCC PARAMETERS\n",
    "a = 1   # unit cell size in mm\n",
    "Inf = 0.5  # infill ratio\n",
    "rs = 0.4\n",
    "\n",
    "nL = 1.0  # low refractive index\n",
    "Eps_h = 10\n",
    "nH = np.sqrt(Eps_h)  # high refractive index\n",
    "\n",
    "# PWEM PARAMETERS\n",
    "N1 = 128\n",
    "N2 = N1\n",
    "N3 = N1\n",
    "\n",
    "NP = 7\n",
    "NQ = NP\n",
    "NR = NP\n",
    "\n",
    "NSOL = 10\n",
    "\n",
    "# BAND DIAGRAM PARAMETERS\n",
    "NBETA = 21\n",
    "wn_max = 1"
   ]
  },
  {
   "cell_type": "code",
   "execution_count": 3,
   "metadata": {},
   "outputs": [],
   "source": [
    "# DIRECT LATTICE VECTORS\n",
    "t1 = a * np.array([1, 0, 0])\n",
    "t2 = a * np.array([0, 1, 0])\n",
    "t3 = a * np.array([0, 0, 1])"
   ]
  },
  {
   "cell_type": "code",
   "execution_count": 4,
   "metadata": {},
   "outputs": [],
   "source": [
    "# RECIPROCAL LATTICE VECTORS\n",
    "T1 = (2 * np.pi / a) * np.array([1, 0, 0])\n",
    "T2 = (2 * np.pi / a) * np.array([0, 1, 0])\n",
    "T3 = (2 * np.pi / a) * np.array([0, 0, 1])"
   ]
  },
  {
   "cell_type": "code",
   "execution_count": 5,
   "metadata": {},
   "outputs": [
    {
     "data": {
      "text/plain": [
       "(3, 21, 21)"
      ]
     },
     "execution_count": 5,
     "metadata": {},
     "output_type": "execute_result"
    }
   ],
   "source": [
    "kx_ = np.linspace(-np.pi, np.pi, NBETA)\n",
    "ky_ = np.linspace(-np.pi, np.pi, NBETA)\n",
    "kz_ = 0\n",
    "KX_, KY_ = np.meshgrid(kx_,ky_)\n",
    "BETA = np.array([KX_, KY_, np.zeros([NBETA, NBETA])])\n",
    "BETA.shape"
   ]
  },
  {
   "cell_type": "code",
   "execution_count": 6,
   "metadata": {},
   "outputs": [
    {
     "data": {
      "image/png": "[encoded data removed]",
      "text/plain": [
       "<Figure size 432x288 with 1 Axes>"
      ]
     },
     "metadata": {
      "needs_background": "light"
     },
     "output_type": "display_data"
    }
   ],
   "source": [
    "# BUILD UNIT CELL AND CONVOLUTION MATRIX\n",
    "p = np.linspace(-0.5*a, 0.5*a, N1)\n",
    "q = np.linspace(-0.5*a, 0.5*a, N2)\n",
    "r = np.linspace(-0.5*a, 0.5*a, N3)\n",
    "Q, P, R = np.meshgrid(q, p, r, indexing='ij')  # Note: indexing!\n",
    "\n",
    "ER = np.zeros((N1, N2, N3))\n",
    "ER = ((abs(P)<= rs)&(abs(R)<= rs)&(abs(Q)<= rs)).astype(float)#.transpose([1,2,0])\n",
    "ER = 1 - ER # as in your comment for negation if wanted\n",
    "# CONVERT ER TO REAL MATERIALS\n",
    "ER = nL**2 + (nH**2 - nL**2) * ER\n",
    "\n",
    "plt.imshow(ER[int(N1/2),:,:], origin='lower')\n",
    "# plt.colorbar()                # Show color scale\n",
    "plt.show()"
   ]
  },
  {
   "cell_type": "code",
   "execution_count": 7,
   "metadata": {},
   "outputs": [
    {
     "name": "stdout",
     "output_type": "stream",
     "text": [
      "p = [-4 -3 -2 -1  0  1  2  3]\n",
      "q = [-4 -3 -2 -1  0  1  2  3]\n",
      "r = [-4 -3 -2 -1  0  1  2  3]\n",
      "p0 = 64\n",
      "q0 = 64\n",
      "r0 = 64\n"
     ]
    }
   ],
   "source": [
    "ERC = convmat(ER, NP, NQ, NR)  # Ensure your Python version matches MATLAB's\n",
    "ERC_inv = np.linalg.inv(ERC)\n",
    "\n",
    "# FOURIER COEFFICIENT MESHGRID\n",
    "p = np.arange(-NP//2 + 1, NP//2 + 1)\n",
    "q = np.arange(-NQ//2 + 1, NQ//2 + 1)\n",
    "r = np.arange(-NR//2 + 1, NR//2 + 1)\n",
    "R, P, Q = np.meshgrid(q, p, r, indexing='ij')\n",
    "NH = NP * NQ * NR\n",
    "\n",
    "# INITIALIZE DATA RECORDS\n",
    "WN = np.zeros((NSOL, NBETA, NBETA))"
   ]
  },
  {
   "cell_type": "code",
   "execution_count": null,
   "metadata": {},
   "outputs": [],
   "source": [
    "beta_val = np.zeros((NBETA, NBETA))\n",
    "for i in range(NBETA):\n",
    "    for j in range(NBETA):\n",
    "        Kx = BETA[0, i, j] - P*T1[0] - Q*T2[0] - R*T3[0]\n",
    "        Ky = BETA[1, i, j] - P*T1[1] - Q*T2[1] - R*T3[1]\n",
    "        Kz = BETA[2, i, j] - P*T1[2] - Q*T2[2] - R*T3[2]\n",
    "        Kflat = np.sqrt(np.abs(Kx)**2 + np.abs(Ky)**2 + np.abs(Kz)**2).transpose(0,2,1).flatten(order='C')\n",
    "        beta_val[i, j] = np.sqrt(BETA[0, i, j]**2 + BETA[1, i, j]**2 + BETA[2, i, j]**2)\n",
    "\n",
    "        # Calculate Perpendicular Polarization Vectors\n",
    "        p1x = np.eye(NH)\n",
    "        p1y = np.eye(NH)\n",
    "        p1z = np.eye(NH)\n",
    "        p2x = np.eye(NH)\n",
    "        p2y = np.eye(NH)\n",
    "        p2z = np.eye(NH)\n",
    "        for m in range(NH):\n",
    "            k = np.array([Kx.transpose(0,2,1).flatten(order='C')[m], \n",
    "                          Ky.transpose(0,2,1).flatten(order='C')[m], \n",
    "                          Kz.transpose(0,2,1).flatten(order='C')[m]])\n",
    "            if norm(k) < 1e-10:\n",
    "                p1 = np.array([1, 0, 0])\n",
    "                p2 = np.array([0, 1, 0])\n",
    "            else:\n",
    "                v = np.array([4*k[1], 2*k[2], 3*k[0]])\n",
    "                p1 = np.cross(k, v)\n",
    "                p1 /= norm(p1)\n",
    "                p2 = np.cross(k, p1)\n",
    "                p2 /= norm(p2)\n",
    "            p1x[m, m] = p1[0]\n",
    "            p1y[m, m] = p1[1]\n",
    "            p1z[m, m] = p1[2]\n",
    "            p2x[m, m] = p2[0]\n",
    "            p2y[m, m] = p2[1]\n",
    "            p2z[m, m] = p2[2]\n",
    "\n",
    "        # Build Eigen-Value Problem (matrix-matrix operations, ERC must be properly shaped)\n",
    "        Kmat = np.diag(Kflat)\n",
    "        #Kmat = sc.sparse.diags(Kflat,0)\n",
    "        # ERC must act as a matrix; check the shape of ERC!\n",
    "        # Use matrix multiplication: @ for Python, * for MATLAB\n",
    "        A11 = (+Kmat @ p2x @ ERC_inv @ Kmat @ p2x\n",
    "                +Kmat @ p2y @ ERC_inv @ Kmat @ p2y\n",
    "                +Kmat @ p2z @ ERC_inv @ Kmat @ p2z)\n",
    "        A12 = (-Kmat @ p2x @ ERC_inv @ Kmat @ p1x\n",
    "                -Kmat @ p2y @ ERC_inv @ Kmat @ p1y\n",
    "                -Kmat @ p2z @ ERC_inv @ Kmat @ p1z)\n",
    "        A21 = (-Kmat @ p1x @ ERC_inv @ Kmat @ p2x\n",
    "                -Kmat @ p1y @ ERC_inv @ Kmat @ p2y\n",
    "                -Kmat @ p1z @ ERC_inv @ Kmat @ p2z)\n",
    "        A22 = (+Kmat @ p1x @ ERC_inv @ Kmat @ p1x\n",
    "                +Kmat @ p1y @ ERC_inv @ Kmat @ p1y\n",
    "                +Kmat @ p1z @ ERC_inv @ Kmat @ p1z)\n",
    "        A = np.block([[A11, A12], [A21, A22]])\n",
    "\n",
    "        # Solve Eigen-Value Problem\n",
    "        k02 = np.sort(np.linalg.eigvals(A))\n",
    "        # k02 = np.sort(eigvals(A))\n",
    "        WN[:, i, j] = (a / (2 * np.pi)) * np.real(np.sqrt(k02[:NSOL]))"
   ]
  },
  {
   "cell_type": "code",
   "execution_count": null,
   "metadata": {},
   "outputs": [],
   "source": [
    "fn = (1e-9) * (WN / (a * 1e-3)) * (3e8)\n",
    "fn.shape"
   ]
  },
  {
   "cell_type": "code",
   "execution_count": null,
   "metadata": {},
   "outputs": [],
   "source": [
    "beta_ = np.append(-beta_val[:int(NBETA/2),int(NBETA/2)],beta_val[int(NBETA/2):,int(NBETA/2)])"
   ]
  },
  {
   "cell_type": "code",
   "execution_count": null,
   "metadata": {},
   "outputs": [],
   "source": [
    "fig = plt.figure(figsize=(10, 7))\n",
    "plt.plot(beta_, WN[0, int(NBETA/2)],'r', label=f\"Mode 0\")\n",
    "plt.plot(beta_, WN[1, int(NBETA/2)],'b', label=f\"Mode 1\")\n",
    "plt.plot(beta_, WN[2, int(NBETA/2)],'g', label=f\"Mode 2\")\n",
    "plt.grid()\n",
    "plt.legend()\n",
    "plt.ylim([0,0.45])\n",
    "# plt.xlim([0,NBETA-1])\n",
    "plt.title('Dispersion Diagram')\n",
    "plt.xlabel(\"Beta []\")\n",
    "plt.ylabel(\"Frequency []\")"
   ]
  },
  {
   "cell_type": "code",
   "execution_count": null,
   "metadata": {},
   "outputs": [],
   "source": [
    "datasets = [(KX_, KY_, WN[1]), (KX_, KY_, WN[2]), (KX_, KY_, WN[4])]\n",
    "traces = []\n",
    "\n",
    "for i, (x, y, z) in enumerate(datasets):\n",
    "    traces.append(go.Scatter3d(x=x.flatten(), y=y.flatten(), z=z.flatten(),\n",
    "                               mode='markers',\n",
    "                               name=f'Mode {i+1}'))\n",
    "\n",
    "fig = go.Figure(data=traces)\n",
    "fig.update_traces(marker_size = 5)\n",
    "fig.update_layout(\n",
    "    width=950,   # width in pixels\n",
    "    height=800   # height in pixels\n",
    ")\n",
    "fig.show()"
   ]
  },
  {
   "cell_type": "code",
   "execution_count": null,
   "metadata": {},
   "outputs": [],
   "source": [
    "# Create two subplots\n",
    "fig, axs = plt.subplots(1, 2, figsize=(12, 6))  # 1 row, 2 columns\n",
    "\n",
    "# Subplot 1: contour plot for Z1\n",
    "cp1 = axs[0].contour(BETA[0], BETA[1], WN[1])\n",
    "axs[0].set_title('Mode 1')\n",
    "axs[0].clabel(cp1, inline=True)      # Adds labels to lines\n",
    "\n",
    "# Subplot 2: contour plot for Z2\n",
    "cp2 = axs[1].contour(BETA[0], BETA[1], WN[2])\n",
    "axs[1].set_title('Mode 2')\n",
    "axs[1].clabel(cp2, inline=True)      # Adds labels to lines\n",
    "\n",
    "plt.tight_layout()\n",
    "plt.show()"
   ]
  },
  {
   "cell_type": "code",
   "execution_count": null,
   "metadata": {},
   "outputs": [],
   "source": []
  }
 ],
 "metadata": {
  "kernelspec": {
   "display_name": "Python 3",
   "language": "python",
   "name": "python3"
  },
  "language_info": {
   "codemirror_mode": {
    "name": "ipython",
    "version": 3
   },
   "file_extension": ".py",
   "mimetype": "text/x-python",
   "name": "python",
   "nbconvert_exporter": "python",
   "pygments_lexer": "ipython3",
   "version": "3.8.5"
  }
 },
 "nbformat": 4,
 "nbformat_minor": 4
}
