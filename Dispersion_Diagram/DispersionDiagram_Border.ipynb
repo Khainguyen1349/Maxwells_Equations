{
 "cells": [
  {
   "cell_type": "code",
   "execution_count": 1,
   "metadata": {},
   "outputs": [],
   "source": [
    "import numpy as np\n",
    "import scipy as sc\n",
    "from numpy.linalg import norm\n",
    "from scipy.linalg import eig, eigvals\n",
    "# Visualization libraries as needed, for example:\n",
    "from mpl_toolkits.mplot3d import Axes3D\n",
    "import matplotlib.pyplot as plt"
   ]
  },
  {
   "cell_type": "code",
   "execution_count": 2,
   "metadata": {},
   "outputs": [],
   "source": [
    "def convmat(A, P, Q=None, R=None):\n",
    "    \"\"\"\n",
    "    Construct a convolution matrix from a real-space grid A.\n",
    "    Supports 1D, 2D, and 3D (assumes A.ndim = 1, 2, or 3).\n",
    "    \"\"\"\n",
    "    # Handle input arguments (1D: P, 2D: P, Q, 3D: P, Q, R)\n",
    "    if Q is None:\n",
    "        Q = 1\n",
    "    if R is None:\n",
    "        R = 1\n",
    "    A = np.asarray(A)\n",
    "    shape = A.shape\n",
    "    Nx, Ny, Nz = 1, 1, 1\n",
    "    if A.ndim == 3:\n",
    "        Nx, Ny, Nz = shape\n",
    "    elif A.ndim == 2:\n",
    "        Nx, Ny = shape\n",
    "    elif A.ndim == 1:\n",
    "        Nx = shape[0]\n",
    "\n",
    "    # Indices of spatial harmonics\n",
    "    p = np.arange(-P//2, P//2+1)\n",
    "    q = np.arange(-Q//2, Q//2+1)\n",
    "    r = np.arange(-R//2, R//2+1)\n",
    "    NH = P*Q*R\n",
    "    print(f\"p = {p}\")\n",
    "    print(f\"q = {q}\")\n",
    "    print(f\"r = {r}\")\n",
    "\n",
    "    # Fourier coefficients of A (normalized FFT, with fftshift)\n",
    "    Ahat = np.fft.fftshift(np.fft.fftn(A)) / (Nx * Ny * Nz)\n",
    "    #print(f\"Ahat[:,63,63] = {Ahat[64,:,63]}\")\n",
    "    \n",
    "    # Zero-order harmonic index\n",
    "    p0 = Nx//2\n",
    "    q0 = Ny//2\n",
    "    r0 = Nz//2\n",
    "    print(f\"p0 = {p0}\")\n",
    "    print(f\"q0 = {q0}\")\n",
    "    print(f\"r0 = {r0}\")\n",
    "\n",
    "    # Convolution matrix\n",
    "    C = np.zeros((NH, NH), dtype=np.complex128)\n",
    "    # For each output block (row/col index)\n",
    "    rowidx = 0\n",
    "    for rrow in range(R):\n",
    "        for qrow in range(Q):\n",
    "            for prow in range(P):\n",
    "                row = rrow * Q * P + qrow * P + prow\n",
    "                for rcol in range(R):\n",
    "                    for qcol in range(Q):\n",
    "                        for pcol in range(P):\n",
    "                            col = rcol * Q * P + qcol * P + pcol\n",
    "                            pfft = p[prow] - p[pcol]\n",
    "                            qfft = q[qrow] - q[qcol]\n",
    "                            rfft = r[rrow] - r[rcol]\n",
    "                            idx_p = p0 + pfft\n",
    "                            idx_q = q0 + qfft\n",
    "                            idx_r = r0 + rfft\n",
    "                            C[row, col] = Ahat[idx_q, idx_p, idx_r]\n",
    "    return C"
   ]
  },
  {
   "cell_type": "code",
   "execution_count": 3,
   "metadata": {},
   "outputs": [],
   "source": [
    "# BCC PARAMETERS\n",
    "a = 1   # unit cell size in mm\n",
    "Inf = 0.5  # infill ratio\n",
    "rs = a * (Inf / np.pi)**0.5\n",
    "\n",
    "nL = 1.0  # low refractive index\n",
    "Eps_h = 7.5\n",
    "nH = np.sqrt(Eps_h)  # high refractive index\n",
    "\n",
    "# PWEM PARAMETERS\n",
    "N1 = 128\n",
    "N2 = N1\n",
    "N3 = N1\n",
    "\n",
    "NP = 7\n",
    "NQ = NP\n",
    "NR = NP\n",
    "\n",
    "NSOL = 3\n",
    "\n",
    "# BAND DIAGRAM PARAMETERS\n",
    "NBETA = 50\n",
    "wn_max = 1"
   ]
  },
  {
   "cell_type": "code",
   "execution_count": 4,
   "metadata": {},
   "outputs": [],
   "source": [
    "# DIRECT LATTICE VECTORS\n",
    "t1 = a * np.array([1, 0, 0])\n",
    "t2 = a * np.array([0, 1, 0])\n",
    "t3 = a * np.array([0, 0, 1])"
   ]
  },
  {
   "cell_type": "code",
   "execution_count": 5,
   "metadata": {},
   "outputs": [],
   "source": [
    "# RECIPROCAL LATTICE VECTORS\n",
    "T1 = (2 * np.pi / a) * np.array([1, 0, 0])\n",
    "T2 = (2 * np.pi / a) * np.array([0, 1, 0])\n",
    "T3 = (2 * np.pi / a) * np.array([0, 0, 1])"
   ]
  },
  {
   "cell_type": "code",
   "execution_count": 6,
   "metadata": {},
   "outputs": [],
   "source": [
    "# KEY POINTS OF SYMMETRY\n",
    "PG = np.array([0, 0, 0])\n",
    "PX = 0.5 * T2\n",
    "PM = 0.5 * T1 + 0.5 * T2\n",
    "PR = 0.5 * T1 + 0.5 * T2 + 0.5 * T3"
   ]
  },
  {
   "cell_type": "code",
   "execution_count": 7,
   "metadata": {},
   "outputs": [],
   "source": [
    "# PATH AROUND IBZ\n",
    "KP = np.vstack([PG, PX, PM, PG, PR, PX]).T\n",
    "KL = ['Γ','X','M','Γ','R','X']\n",
    "\n",
    "# CALCULATE BETA AXIS RESOLUTION\n",
    "L = 0\n",
    "NKP = KP.shape[1]\n",
    "for nkp in range(NKP-1):\n",
    "    L += norm(KP[:, nkp+1] - KP[:, nkp])\n",
    "res = L / NBETA\n",
    "\n",
    "# BUILD BETA LIST\n",
    "BETA = KP[:, [0]]\n",
    "KT = [1]\n",
    "for nkp in range(NKP-1):\n",
    "    kp1 = KP[:, nkp]\n",
    "    kp2 = KP[:, nkp+1]\n",
    "    L = norm(kp2 - kp1)\n",
    "    NB = int(np.round(L/res))\n",
    "    bx = kp1[0] + (kp2[0] - kp1[0]) * np.arange(1, NB+1)/NB\n",
    "    by = kp1[1] + (kp2[1] - kp1[1]) * np.arange(1, NB+1)/NB\n",
    "    bz = kp1[2] + (kp2[2] - kp1[2]) * np.arange(1, NB+1)/NB\n",
    "    BETA = np.hstack((BETA, np.vstack([bx, by, bz])))\n",
    "    KT.append(BETA.shape[1])\n",
    "NBETA = BETA.shape[1]"
   ]
  },
  {
   "cell_type": "code",
   "execution_count": 8,
   "metadata": {},
   "outputs": [],
   "source": [
    "# BUILD UNIT CELL AND CONVOLUTION MATRIX\n",
    "p = np.linspace(-0.5*a, 0.5*a, N1)\n",
    "q = np.linspace(-0.5*a, 0.5*a, N2)\n",
    "r = np.linspace(-0.5*a, 0.5*a, N3)\n",
    "Q, P, R = np.meshgrid(q, p, r, indexing='ij')  # Note: indexing!\n",
    "\n",
    "ER = np.zeros((N1, N2, N3))\n",
    "ER = ((P)**2 + (R)**2 <= rs**2).astype(float)\n",
    "# ER = 1 - ER # as in your comment for negation if wanted\n",
    "# CONVERT ER TO REAL MATERIALS\n",
    "ER = nL**2 + (nH**2 - nL**2) * ER"
   ]
  },
  {
   "cell_type": "code",
   "execution_count": 9,
   "metadata": {},
   "outputs": [
    {
     "data": {
      "image/png": "[encoded data removed]",
      "text/plain": [
       "<Figure size 432x288 with 1 Axes>"
      ]
     },
     "metadata": {
      "needs_background": "light"
     },
     "output_type": "display_data"
    }
   ],
   "source": [
    "plt.imshow(ER[0,:,:], origin='lower')\n",
    "plt.show()"
   ]
  },
  {
   "cell_type": "code",
   "execution_count": 10,
   "metadata": {},
   "outputs": [
    {
     "name": "stdout",
     "output_type": "stream",
     "text": [
      "p = [-4 -3 -2 -1  0  1  2  3]\n",
      "q = [-4 -3 -2 -1  0  1  2  3]\n",
      "r = [-4 -3 -2 -1  0  1  2  3]\n",
      "p0 = 64\n",
      "q0 = 64\n",
      "r0 = 64\n"
     ]
    }
   ],
   "source": [
    "ERC = convmat(ER, NP, NQ, NR)  # Ensure your Python version matches MATLAB's\n",
    "ERC_inv = np.linalg.inv(ERC)\n",
    "\n",
    "# FOURIER COEFFICIENT MESHGRID\n",
    "p = np.arange(-NP//2 + 1, NP//2 + 1)\n",
    "q = np.arange(-NQ//2 + 1, NQ//2 + 1)\n",
    "r = np.arange(-NR//2 + 1, NR//2 + 1)\n",
    "R, P, Q = np.meshgrid(q, p, r, indexing='ij')\n",
    "NH = NP * NQ * NR\n",
    "\n",
    "# INITIALIZE DATA RECORDS\n",
    "WN = np.zeros((NSOL, NBETA))"
   ]
  },
  {
   "cell_type": "code",
   "execution_count": 11,
   "metadata": {},
   "outputs": [],
   "source": [
    "beta_val = np.zeros(NBETA)\n",
    "for nb in range(NBETA):\n",
    "    Kx = BETA[0, nb] - P*T1[0] - Q*T2[0] - R*T3[0]\n",
    "    Ky = BETA[1, nb] - P*T1[1] - Q*T2[1] - R*T3[1]\n",
    "    Kz = BETA[2, nb] - P*T1[2] - Q*T2[2] - R*T3[2]\n",
    "    Kflat = np.sqrt(np.abs(Kx)**2 + np.abs(Ky)**2 + np.abs(Kz)**2).transpose(0,2,1).flatten(order='C')\n",
    "    beta_val[nb] = np.sqrt(BETA[0, nb]**2 + BETA[1, nb]**2 + BETA[2, nb]**2)\n",
    "    \n",
    "    # Calculate Perpendicular Polarization Vectors\n",
    "    p1x = np.eye(NH)\n",
    "    p1y = np.eye(NH)\n",
    "    p1z = np.eye(NH)\n",
    "    p2x = np.eye(NH)\n",
    "    p2y = np.eye(NH)\n",
    "    p2z = np.eye(NH)\n",
    "    for m in range(NH):\n",
    "        k = np.array([Kx.transpose(0,2,1).flatten(order='C')[m], Ky.transpose(0,2,1).flatten(order='C')[m], Kz.transpose(0,2,1).flatten(order='C')[m]])\n",
    "        if norm(k) < 1e-10:\n",
    "            p1 = np.array([1, 0, 0])\n",
    "            p2 = np.array([0, 1, 0])\n",
    "        else:\n",
    "            v = np.array([4*k[1], 2*k[2], 3*k[0]])\n",
    "            p1 = np.cross(k, v)\n",
    "            p1 /= norm(p1)\n",
    "            p2 = np.cross(k, p1)\n",
    "            p2 /= norm(p2)\n",
    "        p1x[m, m] = p1[0]\n",
    "        p1y[m, m] = p1[1]\n",
    "        p1z[m, m] = p1[2]\n",
    "        p2x[m, m] = p2[0]\n",
    "        p2y[m, m] = p2[1]\n",
    "        p2z[m, m] = p2[2]\n",
    "        \n",
    "    # Build Eigen-Value Problem (matrix-matrix operations, ERC must be properly shaped)\n",
    "    Kmat = np.diag(Kflat)\n",
    "    #Kmat = sc.sparse.diags(Kflat,0)\n",
    "    # ERC must act as a matrix; check the shape of ERC!\n",
    "    # Use matrix multiplication: @ for Python, * for MATLAB\n",
    "    A11 = (+Kmat @ p2x @ ERC_inv @ Kmat @ p2x\n",
    "            +Kmat @ p2y @ ERC_inv @ Kmat @ p2y\n",
    "            +Kmat @ p2z @ ERC_inv @ Kmat @ p2z)\n",
    "    A12 = (-Kmat @ p2x @ ERC_inv @ Kmat @ p1x\n",
    "            -Kmat @ p2y @ ERC_inv @ Kmat @ p1y\n",
    "            -Kmat @ p2z @ ERC_inv @ Kmat @ p1z)\n",
    "    A21 = (-Kmat @ p1x @ ERC_inv @ Kmat @ p2x\n",
    "            -Kmat @ p1y @ ERC_inv @ Kmat @ p2y\n",
    "            -Kmat @ p1z @ ERC_inv @ Kmat @ p2z)\n",
    "    A22 = (+Kmat @ p1x @ ERC_inv @ Kmat @ p1x\n",
    "            +Kmat @ p1y @ ERC_inv @ Kmat @ p1y\n",
    "            +Kmat @ p1z @ ERC_inv @ Kmat @ p1z)\n",
    "    A = np.block([[A11, A12], [A21, A22]])\n",
    "    \n",
    "    # Solve Eigen-Value Problem\n",
    "    k02 = np.sort(np.linalg.eigvals(A))\n",
    "    # k02 = np.sort(eigvals(A))\n",
    "    WN[:, nb] = (a / (2 * np.pi)) * np.real(np.sqrt(k02[:NSOL]))"
   ]
  },
  {
   "cell_type": "code",
   "execution_count": 12,
   "metadata": {},
   "outputs": [
    {
     "data": {
      "text/plain": [
       "(3, 52)"
      ]
     },
     "execution_count": 12,
     "metadata": {},
     "output_type": "execute_result"
    }
   ],
   "source": [
    "fn = (1e-9) * (WN / (a * 1e-3)) * (3e8)\n",
    "fn.shape"
   ]
  },
  {
   "cell_type": "code",
   "execution_count": 13,
   "metadata": {},
   "outputs": [
    {
     "data": {
      "text/plain": [
       "Text(0, 0.5, 'Frequency []')"
      ]
     },
     "execution_count": 13,
     "metadata": {},
     "output_type": "execute_result"
    },
    {
     "data": {
      "image/png": "[encoded data removed]",
      "text/plain": [
       "<Figure size 720x504 with 1 Axes>"
      ]
     },
     "metadata": {
      "needs_background": "light"
     },
     "output_type": "display_data"
    }
   ],
   "source": [
    "fig = plt.figure(figsize=(10, 7))\n",
    "plt.plot(WN[0],'r', label=f\"Mode 0\")\n",
    "plt.plot(WN[1],'b', label=f\"Mode 1\")\n",
    "plt.plot(WN[2],'g', label=f\"Mode 2\")\n",
    "#plt.grid()\n",
    "plt.legend()\n",
    "plt.ylim([0,0.45])\n",
    "plt.xlim([0,60])\n",
    "plt.title('Dispersion Diagram')\n",
    "plt.xlabel(\"Beta []\")\n",
    "plt.ylabel(\"Frequency []\")"
   ]
  },
  {
   "cell_type": "code",
   "execution_count": null,
   "metadata": {},
   "outputs": [],
   "source": []
  }
 ],
 "metadata": {
  "kernelspec": {
   "display_name": "Python 3",
   "language": "python",
   "name": "python3"
  },
  "language_info": {
   "codemirror_mode": {
    "name": "ipython",
    "version": 3
   },
   "file_extension": ".py",
   "mimetype": "text/x-python",
   "name": "python",
   "nbconvert_exporter": "python",
   "pygments_lexer": "ipython3",
   "version": "3.7.6"
  }
 },
 "nbformat": 4,
 "nbformat_minor": 4
}
